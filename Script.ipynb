{
 "cells": [
  {
   "cell_type": "markdown",
   "metadata": {},
   "source": [
    "## Desafio\n",
    "\n",
    "O seguinte script realiza todo o processo de extração, transformação, carga e consequente análise dos dados para responder as perguntas propostas no desafio.\n",
    "A escolha pela entrega em formato Jupyter Notebook foi feita para facilitar a explicação (storytelling) de cada etapa do código, e poder alterar a análise entre a linguagem SQL e Python. \n",
    "\n",
    "\n",
    "Realizado por: Vitor Klein\n",
    "\n",
    "Data: 03/12/2021"
   ]
  },
  {
   "cell_type": "markdown",
   "metadata": {},
   "source": [
    "## Etapa 1:\n",
    "A primeira etapa consiste na leitura de ambos arquivos em excel, localizados dentro do diretório data. \n",
    "\n",
    "Após a leitura, cada arquivo passará por etapas de transformação e conformidade dos dados, buscando prepará-los para a carga no banco relacional SQLite."
   ]
  },
  {
   "cell_type": "code",
   "execution_count": 1,
   "metadata": {},
   "outputs": [
    {
     "data": {
      "text/html": [
       "<div>\n",
       "<style scoped>\n",
       "    .dataframe tbody tr th:only-of-type {\n",
       "        vertical-align: middle;\n",
       "    }\n",
       "\n",
       "    .dataframe tbody tr th {\n",
       "        vertical-align: top;\n",
       "    }\n",
       "\n",
       "    .dataframe thead th {\n",
       "        text-align: right;\n",
       "    }\n",
       "</style>\n",
       "<table border=\"1\" class=\"dataframe\">\n",
       "  <thead>\n",
       "    <tr style=\"text-align: right;\">\n",
       "      <th></th>\n",
       "      <th>(A) Insumos</th>\n",
       "      <th>(B) Agropecuária</th>\n",
       "      <th>(C) Indústria</th>\n",
       "      <th>(D) Serviços</th>\n",
       "      <th>Agronegócio Total (A+B+C+D)</th>\n",
       "      <th>Unnamed: 6</th>\n",
       "      <th>(A) Insumos.1</th>\n",
       "      <th>(B) Agropecuária .1</th>\n",
       "      <th>(C) Indústria.1</th>\n",
       "      <th>(D) Serviços.1</th>\n",
       "      <th>...</th>\n",
       "      <th>(B) Agropecuária .4</th>\n",
       "      <th>(C) Indústria.4</th>\n",
       "      <th>(D) Serviços.4</th>\n",
       "      <th>Ramo Agrícola (A+B+C+D).1</th>\n",
       "      <th>Unnamed: 30</th>\n",
       "      <th>(A) Insumos.5</th>\n",
       "      <th>(B) Agropecuária .5</th>\n",
       "      <th>(C) Indústria.5</th>\n",
       "      <th>(D) Serviços.5</th>\n",
       "      <th>Ramo Pecuário (A+B+C+D).1</th>\n",
       "    </tr>\n",
       "  </thead>\n",
       "  <tbody>\n",
       "    <tr>\n",
       "      <th>1996</th>\n",
       "      <td>31597.663029</td>\n",
       "      <td>200211.777672</td>\n",
       "      <td>514755.882623</td>\n",
       "      <td>646536.982537</td>\n",
       "      <td>1.393102e+06</td>\n",
       "      <td>NaN</td>\n",
       "      <td>22563.193281</td>\n",
       "      <td>156660.677117</td>\n",
       "      <td>412869.927639</td>\n",
       "      <td>453820.180455</td>\n",
       "      <td>...</td>\n",
       "      <td>30626.503975</td>\n",
       "      <td>80714.335676</td>\n",
       "      <td>88719.938000</td>\n",
       "      <td>204471.787111</td>\n",
       "      <td>NaN</td>\n",
       "      <td>1766.200866</td>\n",
       "      <td>8514.057125</td>\n",
       "      <td>19918.276001</td>\n",
       "      <td>37675.324872</td>\n",
       "      <td>67873.858865</td>\n",
       "    </tr>\n",
       "    <tr>\n",
       "      <th>1997</th>\n",
       "      <td>32825.998197</td>\n",
       "      <td>199911.301734</td>\n",
       "      <td>482894.842674</td>\n",
       "      <td>604714.559307</td>\n",
       "      <td>1.320347e+06</td>\n",
       "      <td>NaN</td>\n",
       "      <td>24380.354954</td>\n",
       "      <td>155492.922112</td>\n",
       "      <td>387664.454315</td>\n",
       "      <td>422442.885968</td>\n",
       "      <td>...</td>\n",
       "      <td>32747.697761</td>\n",
       "      <td>81644.348890</td>\n",
       "      <td>88968.885293</td>\n",
       "      <td>208495.573987</td>\n",
       "      <td>NaN</td>\n",
       "      <td>1778.700719</td>\n",
       "      <td>9354.764520</td>\n",
       "      <td>20056.063860</td>\n",
       "      <td>38387.455763</td>\n",
       "      <td>69576.984862</td>\n",
       "    </tr>\n",
       "    <tr>\n",
       "      <th>1998</th>\n",
       "      <td>31818.410647</td>\n",
       "      <td>200969.741431</td>\n",
       "      <td>455966.002147</td>\n",
       "      <td>576123.413175</td>\n",
       "      <td>1.264878e+06</td>\n",
       "      <td>NaN</td>\n",
       "      <td>23463.106415</td>\n",
       "      <td>157842.942734</td>\n",
       "      <td>369315.330228</td>\n",
       "      <td>408645.982407</td>\n",
       "      <td>...</td>\n",
       "      <td>34879.612613</td>\n",
       "      <td>81610.082955</td>\n",
       "      <td>90301.240684</td>\n",
       "      <td>211975.736080</td>\n",
       "      <td>NaN</td>\n",
       "      <td>1846.327557</td>\n",
       "      <td>9530.017660</td>\n",
       "      <td>19147.779539</td>\n",
       "      <td>37008.609985</td>\n",
       "      <td>67532.734741</td>\n",
       "    </tr>\n",
       "    <tr>\n",
       "      <th>1999</th>\n",
       "      <td>34784.067160</td>\n",
       "      <td>206952.587184</td>\n",
       "      <td>453199.228768</td>\n",
       "      <td>573119.731296</td>\n",
       "      <td>1.268056e+06</td>\n",
       "      <td>NaN</td>\n",
       "      <td>24784.952250</td>\n",
       "      <td>159184.070925</td>\n",
       "      <td>370986.897917</td>\n",
       "      <td>416017.500859</td>\n",
       "      <td>...</td>\n",
       "      <td>37993.742136</td>\n",
       "      <td>88546.425866</td>\n",
       "      <td>99294.241941</td>\n",
       "      <td>231750.033781</td>\n",
       "      <td>NaN</td>\n",
       "      <td>2386.569154</td>\n",
       "      <td>11401.295861</td>\n",
       "      <td>19622.278037</td>\n",
       "      <td>37496.852528</td>\n",
       "      <td>70906.995579</td>\n",
       "    </tr>\n",
       "    <tr>\n",
       "      <th>2000</th>\n",
       "      <td>40682.954859</td>\n",
       "      <td>209175.390473</td>\n",
       "      <td>496957.470676</td>\n",
       "      <td>626206.339831</td>\n",
       "      <td>1.373022e+06</td>\n",
       "      <td>NaN</td>\n",
       "      <td>28889.384804</td>\n",
       "      <td>147215.914768</td>\n",
       "      <td>411716.234016</td>\n",
       "      <td>463763.331603</td>\n",
       "      <td>...</td>\n",
       "      <td>37107.020740</td>\n",
       "      <td>103776.571025</td>\n",
       "      <td>116895.483696</td>\n",
       "      <td>265060.890085</td>\n",
       "      <td>NaN</td>\n",
       "      <td>2972.669424</td>\n",
       "      <td>15617.411702</td>\n",
       "      <td>21485.777144</td>\n",
       "      <td>40945.138880</td>\n",
       "      <td>81020.997150</td>\n",
       "    </tr>\n",
       "  </tbody>\n",
       "</table>\n",
       "<p>5 rows × 35 columns</p>\n",
       "</div>"
      ],
      "text/plain": [
       "       (A) Insumos  (B) Agropecuária   (C) Indústria   (D) Serviços  \\\n",
       "1996  31597.663029      200211.777672  514755.882623  646536.982537   \n",
       "1997  32825.998197      199911.301734  482894.842674  604714.559307   \n",
       "1998  31818.410647      200969.741431  455966.002147  576123.413175   \n",
       "1999  34784.067160      206952.587184  453199.228768  573119.731296   \n",
       "2000  40682.954859      209175.390473  496957.470676  626206.339831   \n",
       "\n",
       "      Agronegócio Total (A+B+C+D)  Unnamed: 6  (A) Insumos.1  \\\n",
       "1996                 1.393102e+06         NaN   22563.193281   \n",
       "1997                 1.320347e+06         NaN   24380.354954   \n",
       "1998                 1.264878e+06         NaN   23463.106415   \n",
       "1999                 1.268056e+06         NaN   24784.952250   \n",
       "2000                 1.373022e+06         NaN   28889.384804   \n",
       "\n",
       "      (B) Agropecuária .1  (C) Indústria.1  (D) Serviços.1  ...  \\\n",
       "1996        156660.677117    412869.927639   453820.180455  ...   \n",
       "1997        155492.922112    387664.454315   422442.885968  ...   \n",
       "1998        157842.942734    369315.330228   408645.982407  ...   \n",
       "1999        159184.070925    370986.897917   416017.500859  ...   \n",
       "2000        147215.914768    411716.234016   463763.331603  ...   \n",
       "\n",
       "      (B) Agropecuária .4  (C) Indústria.4  (D) Serviços.4  \\\n",
       "1996         30626.503975     80714.335676    88719.938000   \n",
       "1997         32747.697761     81644.348890    88968.885293   \n",
       "1998         34879.612613     81610.082955    90301.240684   \n",
       "1999         37993.742136     88546.425866    99294.241941   \n",
       "2000         37107.020740    103776.571025   116895.483696   \n",
       "\n",
       "      Ramo Agrícola (A+B+C+D).1  Unnamed: 30  (A) Insumos.5  \\\n",
       "1996              204471.787111          NaN    1766.200866   \n",
       "1997              208495.573987          NaN    1778.700719   \n",
       "1998              211975.736080          NaN    1846.327557   \n",
       "1999              231750.033781          NaN    2386.569154   \n",
       "2000              265060.890085          NaN    2972.669424   \n",
       "\n",
       "      (B) Agropecuária .5  (C) Indústria.5  (D) Serviços.5  \\\n",
       "1996          8514.057125     19918.276001    37675.324872   \n",
       "1997          9354.764520     20056.063860    38387.455763   \n",
       "1998          9530.017660     19147.779539    37008.609985   \n",
       "1999         11401.295861     19622.278037    37496.852528   \n",
       "2000         15617.411702     21485.777144    40945.138880   \n",
       "\n",
       "      Ramo Pecuário (A+B+C+D).1  \n",
       "1996               67873.858865  \n",
       "1997               69576.984862  \n",
       "1998               67532.734741  \n",
       "1999               70906.995579  \n",
       "2000               81020.997150  \n",
       "\n",
       "[5 rows x 35 columns]"
      ]
     },
     "execution_count": 1,
     "metadata": {},
     "output_type": "execute_result"
    }
   ],
   "source": [
    "import pandas as pd\n",
    "\n",
    "FILE_PATH_PIB = 'D:\\OneDrive - K Data BI\\K Data BI\\Python_Projects\\desafio_eleflow\\data\\PIB_Cepea.xlsx'\n",
    "\n",
    "df_pib = pd.read_excel(FILE_PATH_PIB, sheet_name='PIB', header=7, index_col=0)\n",
    "df_pib.head()"
   ]
  },
  {
   "cell_type": "markdown",
   "metadata": {},
   "source": [
    "A leitura do arquivo do PIB traz várias linhas e colunas que não serão utilizadas em nossa análise.\n",
    "\n",
    " Como precisamos somente dos dados relacionados ao PIB do Ramo Agrícola e Pecuário, extraíremos apenas as colunas com essa informação.\n",
    "\n",
    "Também faremos a limpeza do dataframe com valores válidos (através da coluna Ano), e realizaremos a transformação de linhas em colunas, buscando as melhores práticas de modelagem dimensional. \n",
    "\n",
    "As primeiras linhas do dataframe são demonstradas a seguir."
   ]
  },
  {
   "cell_type": "code",
   "execution_count": 2,
   "metadata": {},
   "outputs": [
    {
     "data": {
      "text/html": [
       "<div>\n",
       "<style scoped>\n",
       "    .dataframe tbody tr th:only-of-type {\n",
       "        vertical-align: middle;\n",
       "    }\n",
       "\n",
       "    .dataframe tbody tr th {\n",
       "        vertical-align: top;\n",
       "    }\n",
       "\n",
       "    .dataframe thead th {\n",
       "        text-align: right;\n",
       "    }\n",
       "</style>\n",
       "<table border=\"1\" class=\"dataframe\">\n",
       "  <thead>\n",
       "    <tr style=\"text-align: right;\">\n",
       "      <th></th>\n",
       "      <th>Ano</th>\n",
       "      <th>Ramo</th>\n",
       "      <th>Valor</th>\n",
       "    </tr>\n",
       "  </thead>\n",
       "  <tbody>\n",
       "    <tr>\n",
       "      <th>0</th>\n",
       "      <td>1996</td>\n",
       "      <td>Agrícola</td>\n",
       "      <td>204471.787111</td>\n",
       "    </tr>\n",
       "    <tr>\n",
       "      <th>1</th>\n",
       "      <td>1997</td>\n",
       "      <td>Agrícola</td>\n",
       "      <td>208495.573987</td>\n",
       "    </tr>\n",
       "    <tr>\n",
       "      <th>2</th>\n",
       "      <td>1998</td>\n",
       "      <td>Agrícola</td>\n",
       "      <td>211975.736080</td>\n",
       "    </tr>\n",
       "    <tr>\n",
       "      <th>3</th>\n",
       "      <td>1999</td>\n",
       "      <td>Agrícola</td>\n",
       "      <td>231750.033781</td>\n",
       "    </tr>\n",
       "    <tr>\n",
       "      <th>4</th>\n",
       "      <td>2000</td>\n",
       "      <td>Agrícola</td>\n",
       "      <td>265060.890085</td>\n",
       "    </tr>\n",
       "    <tr>\n",
       "      <th>5</th>\n",
       "      <td>2001</td>\n",
       "      <td>Agrícola</td>\n",
       "      <td>286242.021332</td>\n",
       "    </tr>\n",
       "    <tr>\n",
       "      <th>6</th>\n",
       "      <td>2002</td>\n",
       "      <td>Agrícola</td>\n",
       "      <td>340599.908962</td>\n",
       "    </tr>\n",
       "    <tr>\n",
       "      <th>7</th>\n",
       "      <td>2003</td>\n",
       "      <td>Agrícola</td>\n",
       "      <td>411175.992020</td>\n",
       "    </tr>\n",
       "    <tr>\n",
       "      <th>8</th>\n",
       "      <td>2004</td>\n",
       "      <td>Agrícola</td>\n",
       "      <td>415224.028690</td>\n",
       "    </tr>\n",
       "    <tr>\n",
       "      <th>9</th>\n",
       "      <td>2005</td>\n",
       "      <td>Agrícola</td>\n",
       "      <td>403524.132332</td>\n",
       "    </tr>\n",
       "  </tbody>\n",
       "</table>\n",
       "</div>"
      ],
      "text/plain": [
       "    Ano      Ramo          Valor\n",
       "0  1996  Agrícola  204471.787111\n",
       "1  1997  Agrícola  208495.573987\n",
       "2  1998  Agrícola  211975.736080\n",
       "3  1999  Agrícola  231750.033781\n",
       "4  2000  Agrícola  265060.890085\n",
       "5  2001  Agrícola  286242.021332\n",
       "6  2002  Agrícola  340599.908962\n",
       "7  2003  Agrícola  411175.992020\n",
       "8  2004  Agrícola  415224.028690\n",
       "9  2005  Agrícola  403524.132332"
      ]
     },
     "execution_count": 2,
     "metadata": {},
     "output_type": "execute_result"
    }
   ],
   "source": [
    "df_pib= df_pib[['Ramo Agrícola (A+B+C+D).1', 'Ramo Pecuário (A+B+C+D).1']]\n",
    "df_pib.reset_index(inplace=True)\n",
    "df_pib.columns = ['Ano','Agrícola', 'Pecuário']\n",
    "df_pib = df_pib[df_pib['Ano'].astype(str).str.isdigit()]\n",
    "df_pib = pd.melt(df_pib, id_vars=['Ano'], var_name='Ramo',value_name='Valor',value_vars=['Agrícola', 'Pecuário'])\n",
    "df_pib.head(10)"
   ]
  },
  {
   "cell_type": "code",
   "execution_count": 3,
   "metadata": {},
   "outputs": [],
   "source": [
    "FILE_PATH_PRODUCAO = 'D:\\OneDrive - K Data BI\\K Data BI\\Python_Projects\\desafio_eleflow\\data\\produção_2019.xlsx'\n",
    "\n",
    "df = pd.read_excel(FILE_PATH_PRODUCAO, sheet_name='area prod uf', header=5, index_col=0)"
   ]
  },
  {
   "cell_type": "markdown",
   "metadata": {},
   "source": [
    "No segundo arquivo, temos duas informações distintas: Produção e Área.\n",
    "\n",
    "A partir dele, criaremos dois dataframes, cada um contendo uma variável com a respectiva localização, ano e mês de referência.\n",
    "\n",
    "Os dataframes também serão limpos e conformados para que sejam gravados no banco adequadamente."
   ]
  },
  {
   "cell_type": "code",
   "execution_count": 4,
   "metadata": {},
   "outputs": [
    {
     "data": {
      "text/html": [
       "<div>\n",
       "<style scoped>\n",
       "    .dataframe tbody tr th:only-of-type {\n",
       "        vertical-align: middle;\n",
       "    }\n",
       "\n",
       "    .dataframe tbody tr th {\n",
       "        vertical-align: top;\n",
       "    }\n",
       "\n",
       "    .dataframe thead th {\n",
       "        text-align: right;\n",
       "    }\n",
       "</style>\n",
       "<table border=\"1\" class=\"dataframe\">\n",
       "  <thead>\n",
       "    <tr style=\"text-align: right;\">\n",
       "      <th></th>\n",
       "      <th>Ano</th>\n",
       "      <th>UF</th>\n",
       "      <th>Mês</th>\n",
       "      <th>Valor</th>\n",
       "    </tr>\n",
       "  </thead>\n",
       "  <tbody>\n",
       "    <tr>\n",
       "      <th>0</th>\n",
       "      <td>2019</td>\n",
       "      <td>ACRE</td>\n",
       "      <td>Março</td>\n",
       "      <td>39352</td>\n",
       "    </tr>\n",
       "    <tr>\n",
       "      <th>1</th>\n",
       "      <td>2019</td>\n",
       "      <td>ALAGOAS</td>\n",
       "      <td>Março</td>\n",
       "      <td>80283</td>\n",
       "    </tr>\n",
       "    <tr>\n",
       "      <th>2</th>\n",
       "      <td>2019</td>\n",
       "      <td>AMAPÁ</td>\n",
       "      <td>Março</td>\n",
       "      <td>22442</td>\n",
       "    </tr>\n",
       "    <tr>\n",
       "      <th>3</th>\n",
       "      <td>2019</td>\n",
       "      <td>AMAZONAS</td>\n",
       "      <td>Março</td>\n",
       "      <td>22930</td>\n",
       "    </tr>\n",
       "    <tr>\n",
       "      <th>4</th>\n",
       "      <td>2019</td>\n",
       "      <td>BAHIA</td>\n",
       "      <td>Março</td>\n",
       "      <td>3107865</td>\n",
       "    </tr>\n",
       "    <tr>\n",
       "      <th>5</th>\n",
       "      <td>2019</td>\n",
       "      <td>CEARÁ</td>\n",
       "      <td>Março</td>\n",
       "      <td>961926</td>\n",
       "    </tr>\n",
       "    <tr>\n",
       "      <th>6</th>\n",
       "      <td>2019</td>\n",
       "      <td>DISTRITO FEDERAL</td>\n",
       "      <td>Março</td>\n",
       "      <td>161900</td>\n",
       "    </tr>\n",
       "    <tr>\n",
       "      <th>7</th>\n",
       "      <td>2019</td>\n",
       "      <td>ESPÍRITO SANTO</td>\n",
       "      <td>Março</td>\n",
       "      <td>22805</td>\n",
       "    </tr>\n",
       "    <tr>\n",
       "      <th>8</th>\n",
       "      <td>2019</td>\n",
       "      <td>GOIÁS</td>\n",
       "      <td>Março</td>\n",
       "      <td>5760424</td>\n",
       "    </tr>\n",
       "    <tr>\n",
       "      <th>9</th>\n",
       "      <td>2019</td>\n",
       "      <td>MARANHÃO</td>\n",
       "      <td>Março</td>\n",
       "      <td>1603084</td>\n",
       "    </tr>\n",
       "  </tbody>\n",
       "</table>\n",
       "</div>"
      ],
      "text/plain": [
       "    Ano                UF    Mês    Valor\n",
       "0  2019              ACRE  Março    39352\n",
       "1  2019           ALAGOAS  Março    80283\n",
       "2  2019             AMAPÁ  Março    22442\n",
       "3  2019          AMAZONAS  Março    22930\n",
       "4  2019             BAHIA  Março  3107865\n",
       "5  2019             CEARÁ  Março   961926\n",
       "6  2019  DISTRITO FEDERAL  Março   161900\n",
       "7  2019    ESPÍRITO SANTO  Março    22805\n",
       "8  2019             GOIÁS  Março  5760424\n",
       "9  2019          MARANHÃO  Março  1603084"
      ]
     },
     "execution_count": 4,
     "metadata": {},
     "output_type": "execute_result"
    }
   ],
   "source": [
    "df.reset_index(inplace=True)\n",
    "df.columns = ['UF', 'Ano1', 'Março1', 'Junho1', 'Ano2','Março2','Junho2']\n",
    "df_area = df[['UF', 'Ano1', 'Março1', 'Junho1']]\n",
    "df_production = df[['UF', 'Ano2', 'Março2', 'Junho2']]\n",
    "df_area = df_area.rename(columns={'Ano1':'Anual','Março1':'Março', 'Junho1':'Junho'})\n",
    "df_production = df_production.rename(columns={'Ano2':'Anual','Março2':'Março', 'Junho2':'Junho'})\n",
    "df_production['Ano'] = 2019\n",
    "df_area['Ano'] = 2019\n",
    "df_production = df_production[df_production['Anual'].notna()]\n",
    "df_area = df_area[df_area['Anual'].notna()]\n",
    "df_area = pd.melt(df_area, id_vars=['Ano','UF'], var_name='Mês',value_name='Valor',value_vars=['Março', 'Junho','Anual'])\n",
    "df_production = pd.melt(df_production, id_vars=['Ano','UF'], var_name='Mês',value_name='Valor',value_vars=['Março', 'Junho','Anual'])\n",
    "df_area['Valor'] = df_area['Valor'].str.replace(\" \",\"\")\n",
    "df_area['Valor'] = df_area['Valor'].astype(int)\n",
    "df_area.head(10)"
   ]
  },
  {
   "cell_type": "code",
   "execution_count": 5,
   "metadata": {},
   "outputs": [
    {
     "data": {
      "text/html": [
       "<div>\n",
       "<style scoped>\n",
       "    .dataframe tbody tr th:only-of-type {\n",
       "        vertical-align: middle;\n",
       "    }\n",
       "\n",
       "    .dataframe tbody tr th {\n",
       "        vertical-align: top;\n",
       "    }\n",
       "\n",
       "    .dataframe thead th {\n",
       "        text-align: right;\n",
       "    }\n",
       "</style>\n",
       "<table border=\"1\" class=\"dataframe\">\n",
       "  <thead>\n",
       "    <tr style=\"text-align: right;\">\n",
       "      <th></th>\n",
       "      <th>Ano</th>\n",
       "      <th>UF</th>\n",
       "      <th>Mês</th>\n",
       "      <th>Valor</th>\n",
       "    </tr>\n",
       "  </thead>\n",
       "  <tbody>\n",
       "    <tr>\n",
       "      <th>0</th>\n",
       "      <td>2019</td>\n",
       "      <td>ACRE</td>\n",
       "      <td>Março</td>\n",
       "      <td>85784</td>\n",
       "    </tr>\n",
       "    <tr>\n",
       "      <th>1</th>\n",
       "      <td>2019</td>\n",
       "      <td>ALAGOAS</td>\n",
       "      <td>Março</td>\n",
       "      <td>105458</td>\n",
       "    </tr>\n",
       "    <tr>\n",
       "      <th>2</th>\n",
       "      <td>2019</td>\n",
       "      <td>AMAPÁ</td>\n",
       "      <td>Março</td>\n",
       "      <td>60375</td>\n",
       "    </tr>\n",
       "    <tr>\n",
       "      <th>3</th>\n",
       "      <td>2019</td>\n",
       "      <td>AMAZONAS</td>\n",
       "      <td>Março</td>\n",
       "      <td>41420</td>\n",
       "    </tr>\n",
       "    <tr>\n",
       "      <th>4</th>\n",
       "      <td>2019</td>\n",
       "      <td>BAHIA</td>\n",
       "      <td>Março</td>\n",
       "      <td>9065031</td>\n",
       "    </tr>\n",
       "    <tr>\n",
       "      <th>5</th>\n",
       "      <td>2019</td>\n",
       "      <td>CEARÁ</td>\n",
       "      <td>Março</td>\n",
       "      <td>918483</td>\n",
       "    </tr>\n",
       "    <tr>\n",
       "      <th>6</th>\n",
       "      <td>2019</td>\n",
       "      <td>DISTRITO FEDERAL</td>\n",
       "      <td>Março</td>\n",
       "      <td>860900</td>\n",
       "    </tr>\n",
       "    <tr>\n",
       "      <th>7</th>\n",
       "      <td>2019</td>\n",
       "      <td>ESPÍRITO SANTO</td>\n",
       "      <td>Março</td>\n",
       "      <td>48761</td>\n",
       "    </tr>\n",
       "    <tr>\n",
       "      <th>8</th>\n",
       "      <td>2019</td>\n",
       "      <td>GOIÁS</td>\n",
       "      <td>Março</td>\n",
       "      <td>25295407</td>\n",
       "    </tr>\n",
       "    <tr>\n",
       "      <th>9</th>\n",
       "      <td>2019</td>\n",
       "      <td>MARANHÃO</td>\n",
       "      <td>Março</td>\n",
       "      <td>5359847</td>\n",
       "    </tr>\n",
       "  </tbody>\n",
       "</table>\n",
       "</div>"
      ],
      "text/plain": [
       "    Ano                UF    Mês     Valor\n",
       "0  2019              ACRE  Março     85784\n",
       "1  2019           ALAGOAS  Março    105458\n",
       "2  2019             AMAPÁ  Março     60375\n",
       "3  2019          AMAZONAS  Março     41420\n",
       "4  2019             BAHIA  Março   9065031\n",
       "5  2019             CEARÁ  Março    918483\n",
       "6  2019  DISTRITO FEDERAL  Março    860900\n",
       "7  2019    ESPÍRITO SANTO  Março     48761\n",
       "8  2019             GOIÁS  Março  25295407\n",
       "9  2019          MARANHÃO  Março   5359847"
      ]
     },
     "execution_count": 5,
     "metadata": {},
     "output_type": "execute_result"
    }
   ],
   "source": [
    "df_production['Valor'] = df_production['Valor'].str.replace(\" \",\"\")\n",
    "df_production['Valor'] = df_production['Valor'].astype(int)\n",
    "df_production.head(10)"
   ]
  },
  {
   "cell_type": "markdown",
   "metadata": {},
   "source": [
    "## Etapa 2:\n",
    "Na segunda etapa, iremos criar um banco relacional para que os dados extraídos sejam armazenados.\n",
    "\n",
    "Após a criação do banco e das tabelas, faremos a carga dos dataframes criados na etapa anterior."
   ]
  },
  {
   "cell_type": "code",
   "execution_count": 6,
   "metadata": {},
   "outputs": [],
   "source": [
    "import sqlite3\n",
    "\n",
    "connection = sqlite3.connect('eleflow_database')\n",
    "cursor = connection.cursor()"
   ]
  },
  {
   "cell_type": "code",
   "execution_count": 7,
   "metadata": {},
   "outputs": [
    {
     "data": {
      "text/plain": [
       "<sqlite3.Cursor at 0x1c033b87490>"
      ]
     },
     "execution_count": 7,
     "metadata": {},
     "output_type": "execute_result"
    }
   ],
   "source": [
    "query1 = \"\"\"\n",
    "    CREATE TABLE IF NOT EXISTS pib(\n",
    "        ano int,\n",
    "        ramo varchar(30), \n",
    "        valor_pib numeric(14,2)) \n",
    "\"\"\"\n",
    "\n",
    "query2 = \"\"\"\n",
    "    CREATE TABLE IF NOT EXISTS producao(\n",
    "        ano integer,\n",
    "        mes varchar(20),\n",
    "        uf varchar(30),\n",
    "        valor numeric(14,2)\n",
    "    )\n",
    "\"\"\"\n",
    "\n",
    "query3 = \"\"\"\n",
    "    CREATE TABLE IF NOT EXISTS area(\n",
    "        ano integer,\n",
    "        mes varchar(20),\n",
    "        uf varchar(30),\n",
    "        valor numeric(14,2)\n",
    "    )\n",
    "\"\"\"\n",
    "\n",
    "cursor.execute(query1)\n",
    "cursor.execute(query2)\n",
    "cursor.execute(query3)"
   ]
  },
  {
   "cell_type": "code",
   "execution_count": 8,
   "metadata": {},
   "outputs": [],
   "source": [
    "df_pib.to_sql('pib', con=connection, if_exists='replace', index=False)\n",
    "df_production.to_sql('producao', con=connection, if_exists='replace', index=False)\n",
    "df_area.to_sql('area', con=connection, if_exists='replace', index=False)"
   ]
  },
  {
   "cell_type": "markdown",
   "metadata": {},
   "source": [
    "## Etapa 3:\n",
    "\n",
    "Com os dados limpos e armazenados em um banco relacional, podemos analisá-los buscando responder cada pergunta proposta no desafio.\n",
    "\n",
    "Nesta etapa, utilizaremos SQL e Python."
   ]
  },
  {
   "cell_type": "code",
   "execution_count": 9,
   "metadata": {},
   "outputs": [],
   "source": [
    "# conexao ao banco SQLite\n",
    "%load_ext sql\n",
    "%sql sqlite:///eleflow_database"
   ]
  },
  {
   "cell_type": "markdown",
   "metadata": {},
   "source": [
    "### Pergunta 1:\n",
    "\n",
    "Qual a porcentagem de participação da região Centro-Oeste na produção nacional no primeiro semestre de 2019?"
   ]
  },
  {
   "cell_type": "code",
   "execution_count": 10,
   "metadata": {},
   "outputs": [
    {
     "name": "stdout",
     "output_type": "stream",
     "text": [
      " * sqlite:///eleflow_database\n",
      "Done.\n"
     ]
    },
    {
     "data": {
      "text/html": [
       "<table>\n",
       "    <tr>\n",
       "        <th>Percentual do Centro Oeste</th>\n",
       "    </tr>\n",
       "    <tr>\n",
       "        <td>46</td>\n",
       "    </tr>\n",
       "</table>"
      ],
      "text/plain": [
       "[(46,)]"
      ]
     },
     "execution_count": 10,
     "metadata": {},
     "output_type": "execute_result"
    }
   ],
   "source": [
    "%%sql\n",
    "SELECT SUM(Valor) * 100 / (SELECT SUM(Valor) FROM producao where Mês = 'Junho' and Ano = 2019) AS [Percentual do Centro Oeste]\n",
    "FROM producao\n",
    "WHERE UF in ('MATO GROSSO', 'MATO GROSSO DO SUL', 'GOIÁS', 'DISTRITO FEDERAL') and Mês = 'Junho' and Ano = 2019"
   ]
  },
  {
   "cell_type": "markdown",
   "metadata": {},
   "source": [
    "### Pergunta 2:\n",
    "\n",
    "Qual estado possui maior área produtiva? "
   ]
  },
  {
   "cell_type": "code",
   "execution_count": 11,
   "metadata": {},
   "outputs": [
    {
     "name": "stdout",
     "output_type": "stream",
     "text": [
      " * sqlite:///eleflow_database\n",
      "Done.\n"
     ]
    },
    {
     "data": {
      "text/html": [
       "<table>\n",
       "    <tr>\n",
       "        <th>UF</th>\n",
       "        <th>Area</th>\n",
       "    </tr>\n",
       "    <tr>\n",
       "        <td>MATO GROSSO</td>\n",
       "        <td>16273085</td>\n",
       "    </tr>\n",
       "</table>"
      ],
      "text/plain": [
       "[('MATO GROSSO', 16273085)]"
      ]
     },
     "execution_count": 11,
     "metadata": {},
     "output_type": "execute_result"
    }
   ],
   "source": [
    "%%sql\n",
    "\n",
    "SELECT UF , Valor as Area\n",
    "FROM area\n",
    "WHERE Valor = (SELECT MAX(Valor) FROM area where [Mês] = 'Anual')"
   ]
  },
  {
   "cell_type": "markdown",
   "metadata": {},
   "source": [
    "### Pergunta 3:\n",
    "\n",
    "Qual a média de produção mensal para o estado de São Paulo? "
   ]
  },
  {
   "cell_type": "code",
   "execution_count": 12,
   "metadata": {},
   "outputs": [
    {
     "name": "stdout",
     "output_type": "stream",
     "text": [
      " * sqlite:///eleflow_database\n",
      "Done.\n"
     ]
    },
    {
     "data": {
      "text/html": [
       "<table>\n",
       "    <tr>\n",
       "        <th>Média de Produção Mensal</th>\n",
       "    </tr>\n",
       "    <tr>\n",
       "        <td>768736</td>\n",
       "    </tr>\n",
       "</table>"
      ],
      "text/plain": [
       "[(768736,)]"
      ]
     },
     "execution_count": 12,
     "metadata": {},
     "output_type": "execute_result"
    }
   ],
   "source": [
    "%%sql\n",
    "\n",
    "SELECT Valor/12 AS [Média de Produção Mensal]\n",
    "FROM producao\n",
    "WHERE UF = 'SÃO PAULO' AND Ano = 2019 AND Mês = 'Anual'"
   ]
  },
  {
   "cell_type": "markdown",
   "metadata": {},
   "source": [
    "### Pergunta 4:\n",
    "\n",
    "Defina a correlação entre a produção agrícola e o PIB do Ramo Agrícola e Pecuário em 2019. Qual segmento possui maior correlação e qual possui menor correlação? Demonstre num gráfico e explique os coeficientes. "
   ]
  },
  {
   "cell_type": "code",
   "execution_count": 13,
   "metadata": {},
   "outputs": [
    {
     "name": "stdout",
     "output_type": "stream",
     "text": [
      " * sqlite:///eleflow_database\n",
      "Done.\n"
     ]
    }
   ],
   "source": [
    "pib_ramo_agricola = %sql SELECT valor FROM pib where ramo = 'Agrícola' and ano = 2019"
   ]
  },
  {
   "cell_type": "code",
   "execution_count": 14,
   "metadata": {},
   "outputs": [
    {
     "name": "stdout",
     "output_type": "stream",
     "text": [
      " * sqlite:///eleflow_database\n",
      "Done.\n"
     ]
    }
   ],
   "source": [
    "pib_ramo_pecuario = %sql SELECT valor FROM pib where ramo = 'Pecuário' and ano = 2019"
   ]
  },
  {
   "cell_type": "code",
   "execution_count": 15,
   "metadata": {},
   "outputs": [
    {
     "name": "stdout",
     "output_type": "stream",
     "text": [
      " * sqlite:///eleflow_database\n",
      "Done.\n"
     ]
    }
   ],
   "source": [
    "producao_agricola = %sql SELECT sum(valor) FROM producao WHERE ano = 2019 and [Mês] = 'Anual'"
   ]
  },
  {
   "cell_type": "code",
   "execution_count": 16,
   "metadata": {},
   "outputs": [
    {
     "data": {
      "text/html": [
       "<div>\n",
       "<style scoped>\n",
       "    .dataframe tbody tr th:only-of-type {\n",
       "        vertical-align: middle;\n",
       "    }\n",
       "\n",
       "    .dataframe tbody tr th {\n",
       "        vertical-align: top;\n",
       "    }\n",
       "\n",
       "    .dataframe thead th {\n",
       "        text-align: right;\n",
       "    }\n",
       "</style>\n",
       "<table border=\"1\" class=\"dataframe\">\n",
       "  <thead>\n",
       "    <tr style=\"text-align: right;\">\n",
       "      <th></th>\n",
       "      <th>PIB Agrícola</th>\n",
       "      <th>PIB Pecuário</th>\n",
       "      <th>Produção Agrícola</th>\n",
       "    </tr>\n",
       "  </thead>\n",
       "  <tbody>\n",
       "    <tr>\n",
       "      <th>0</th>\n",
       "      <td>1.058239e+06</td>\n",
       "      <td>494755.934339</td>\n",
       "      <td>241462754</td>\n",
       "    </tr>\n",
       "  </tbody>\n",
       "</table>\n",
       "</div>"
      ],
      "text/plain": [
       "   PIB Agrícola   PIB Pecuário  Produção Agrícola\n",
       "0  1.058239e+06  494755.934339          241462754"
      ]
     },
     "execution_count": 16,
     "metadata": {},
     "output_type": "execute_result"
    }
   ],
   "source": [
    "data = [[pib_ramo_agricola[0][0],pib_ramo_pecuario[0][0],producao_agricola[0][0]]]\n",
    "df = pd.DataFrame(data, columns = [ 'PIB Agrícola', 'PIB Pecuário', 'Produção Agrícola'])\n",
    "df.head()"
   ]
  },
  {
   "cell_type": "code",
   "execution_count": 17,
   "metadata": {},
   "outputs": [
    {
     "name": "stderr",
     "output_type": "stream",
     "text": [
      "d:\\OneDrive - K Data BI\\K Data BI\\Python_Projects\\desafio_eleflow\\.venv\\lib\\site-packages\\seaborn\\matrix.py:198: RuntimeWarning: All-NaN slice encountered\n",
      "  vmin = np.nanmin(calc_data)\n",
      "d:\\OneDrive - K Data BI\\K Data BI\\Python_Projects\\desafio_eleflow\\.venv\\lib\\site-packages\\seaborn\\matrix.py:203: RuntimeWarning: All-NaN slice encountered\n",
      "  vmax = np.nanmax(calc_data)\n"
     ]
    },
    {
     "data": {
      "text/plain": [
       "<AxesSubplot:>"
      ]
     },
     "execution_count": 17,
     "metadata": {},
     "output_type": "execute_result"
    },
    {
     "data": {
      "image/png": "[encoded data removed]",
      "text/plain": [
       "<Figure size 432x288 with 2 Axes>"
      ]
     },
     "metadata": {
      "needs_background": "light"
     },
     "output_type": "display_data"
    }
   ],
   "source": [
    "import seaborn as sns\n",
    "\n",
    "correlation = df.corr()\n",
    "plot = sns.heatmap(correlation, annot = True, fmt=\".1f\", linewidths=.6)\n",
    "plot"
   ]
  },
  {
   "cell_type": "markdown",
   "metadata": {},
   "source": [
    "OBS: Como demonstrado na imagem acima, não foi possível calcular a correlação entre as varíaveis. Como temos valores únicos para a produção agrícola à nível nacional (apenas dados de 2019), não podemos definir um nível de correlação com os dados do PIB (que detém a série histórica, e não são separados por UF).\n",
    "\n",
    "Para isso, precisaríamos dos dados históricos da produção agrícola, assim como temos para o PIB (entre os anos de 1996 e 2019)."
   ]
  }
 ],
 "metadata": {
  "interpreter": {
   "hash": "c0b64c6cfba81f19b2775953c076aa5436ff0aad97cd1920e63d942b95416dfb"
  },
  "kernelspec": {
   "display_name": "Python 3.7.7 64-bit ('.venv': venv)",
   "language": "python",
   "name": "python3"
  },
  "language_info": {
   "codemirror_mode": {
    "name": "ipython",
    "version": 3
   },
   "file_extension": ".py",
   "mimetype": "text/x-python",
   "name": "python",
   "nbconvert_exporter": "python",
   "pygments_lexer": "ipython3",
   "version": "3.7.7"
  },
  "orig_nbformat": 4
 },
 "nbformat": 4,
 "nbformat_minor": 2
}
