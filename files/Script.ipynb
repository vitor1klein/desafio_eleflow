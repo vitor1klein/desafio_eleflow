{
 "cells": [
  {
   "cell_type": "markdown",
   "metadata": {},
   "source": [
    "# Desafio\n",
    "Realizado por: Vitor Klein\n",
    "\n",
    "## Etapa 1:\n",
    "Leitura dos arquivos csv. \n",
    "Transformação para gravação ao banco de dados.\n",
    "\n",
    "## Etapa 2:\n",
    "Criação do banco de dados\n",
    "Criação das tabelas\n",
    "Carga dos arquivos ao banco\n",
    "\n",
    "## Etapa 3:\n",
    "Resposta as perguntas de negocio com SQL\n",
    "\n"
   ]
  },
  {
   "cell_type": "code",
   "execution_count": null,
   "metadata": {},
   "outputs": [],
   "source": [
    "import pandas as pd\n",
    "import sqlite3\n",
    "\n",
    "FILE_PAT_PIB = 'D:\\OneDrive - K Data BI\\K Data BI\\Python_Projects\\desafio_eleflow\\data\\PIB_Cepea.xlsx'\n",
    "df_pib = pd.read_excel(FILE_PAT_PIB, sheet_name='PIB', header=7, index_col=0)"
   ]
  },
  {
   "cell_type": "code",
   "execution_count": null,
   "metadata": {},
   "outputs": [],
   "source": [
    "df_pib= df_pib[['Ramo Agrícola (A+B+C+D).1', 'Ramo Pecuário (A+B+C+D).1']]\n",
    "df_pib.reset_index(inplace=True)\n",
    "df_pib.columns = ['Ano','Agrícola', 'Pecuário']\n",
    "df_pib = df_pib[df_pib['Ano'].astype(str).str.isdigit()]\n",
    "df_pib = pd.melt(df_pib, id_vars=['Ano'], var_name='Ramo',value_name='Valor',value_vars=['Agrícola', 'Pecuário'])\n"
   ]
  },
  {
   "cell_type": "code",
   "execution_count": null,
   "metadata": {},
   "outputs": [],
   "source": [
    "connection = sqlite3.connect('eleflow_database')\n",
    "cursor = connection.cursor()"
   ]
  },
  {
   "cell_type": "code",
   "execution_count": null,
   "metadata": {},
   "outputs": [],
   "source": [
    "query = \"\"\"\n",
    "    CREATE TABLE IF NOT EXISTS pib(\n",
    "        ano int,\n",
    "        ramo varchar(30), \n",
    "        valor_pib numeric(14,2)) \n",
    "\"\"\"\n",
    "\n",
    "query2 = \"\"\"\n",
    "    CREATE TABLE IF NOT EXISTS producao(\n",
    "        ano integer,\n",
    "        mes varchar(20),\n",
    "        uf varchar(30),\n",
    "        valor numeric(14,2)\n",
    "    )\n",
    "\"\"\"\n",
    "\n",
    "query3 = \"\"\"\n",
    "    CREATE TABLE IF NOT EXISTS area(\n",
    "        ano integer,\n",
    "        mes varchar(20),\n",
    "        uf varchar(30),\n",
    "        valor numeric(14,2)\n",
    "    )\n",
    "\"\"\""
   ]
  },
  {
   "cell_type": "code",
   "execution_count": null,
   "metadata": {},
   "outputs": [],
   "source": [
    "df_pib.to_sql('PIB', con=engine, if_exists='replace')"
   ]
  },
  {
   "cell_type": "code",
   "execution_count": null,
   "metadata": {},
   "outputs": [],
   "source": [
    "FILE_PATH_PRODUCAO = 'D:\\OneDrive - K Data BI\\K Data BI\\Python_Projects\\desafio_eleflow\\data\\produção_2019.xlsx'\n",
    "df = pd.read_excel(FILE_PATH_PRODUCAO, sheet_name='area prod uf', header=5, index_col=0)"
   ]
  },
  {
   "cell_type": "code",
   "execution_count": null,
   "metadata": {},
   "outputs": [],
   "source": [
    "df.reset_index(inplace=True)\n",
    "df.columns = ['UF', 'Área(ha)', 'Março1', 'Junho1', 'Produção','Março2','Junho2']"
   ]
  },
  {
   "cell_type": "code",
   "execution_count": null,
   "metadata": {},
   "outputs": [],
   "source": [
    "df_area = df[['UF', 'Área(ha)', 'Março1', 'Junho1']]\n",
    "df_production = df[['UF', 'Produção', 'Março2', 'Junho2']]\n",
    "df_area = df_area.rename(columns={'Março1':'Março', 'Junho1':'Junho'})\n",
    "df_production = df_production.rename(columns={'Março2':'Março', 'Junho2':'Junho'})"
   ]
  },
  {
   "cell_type": "code",
   "execution_count": null,
   "metadata": {},
   "outputs": [],
   "source": [
    "df_production['Ano'] = 2019\n",
    "df_area['Ano'] = 2019"
   ]
  },
  {
   "cell_type": "code",
   "execution_count": null,
   "metadata": {},
   "outputs": [],
   "source": [
    "df_production = df_production[df_production['Produção'].notna()]\n",
    "df_area = df_area[df_area['Área(ha)'].notna()]"
   ]
  },
  {
   "cell_type": "code",
   "execution_count": null,
   "metadata": {},
   "outputs": [],
   "source": [
    "df_area = pd.melt(df_area, id_vars=['Ano','UF'], var_name='Mês',value_name='Valor',value_vars=['Março', 'Junho'])\n",
    "df_production = pd.melt(df_production, id_vars=['Ano','UF'], var_name='Mês',value_name='Valor',value_vars=['Março', 'Junho'])"
   ]
  }
 ],
 "metadata": {
  "interpreter": {
   "hash": "c0b64c6cfba81f19b2775953c076aa5436ff0aad97cd1920e63d942b95416dfb"
  },
  "kernelspec": {
   "display_name": "Python 3.7.7 64-bit ('.venv': venv)",
   "language": "python",
   "name": "python3"
  },
  "language_info": {
   "codemirror_mode": {
    "name": "ipython",
    "version": 3
   },
   "file_extension": ".py",
   "mimetype": "text/x-python",
   "name": "python",
   "nbconvert_exporter": "python",
   "pygments_lexer": "ipython3",
   "version": "3.7.7"
  },
  "orig_nbformat": 4
 },
 "nbformat": 4,
 "nbformat_minor": 2
}
